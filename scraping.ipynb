{
 "cells": [
  {
   "cell_type": "code",
   "execution_count": 66,
   "id": "4ee15dc9",
   "metadata": {},
   "outputs": [],
   "source": [
    "\n",
    "import requests\n",
    "from bs4 import BeautifulSoup\n",
    "import re\n",
    "import pandas as pd"
   ]
  },
  {
   "cell_type": "code",
   "execution_count": 69,
   "id": "7274cc8b",
   "metadata": {},
   "outputs": [],
   "source": [
    "r = requests.get(\"https://butterfly-conservation.org/uk-butterflies/a-to-z\")\n",
    "soup = BeautifulSoup(r.text)"
   ]
  },
  {
   "cell_type": "code",
   "execution_count": 58,
   "id": "d28bb6d0",
   "metadata": {},
   "outputs": [],
   "source": [
    "links = soup.find_all(\"a\")"
   ]
  },
  {
   "cell_type": "code",
   "execution_count": 59,
   "id": "ad5ce7f1",
   "metadata": {},
   "outputs": [],
   "source": [
    "# for link in links:\n",
    "#     print(link.attrs.get('href'))\n",
    "    \n"
   ]
  },
  {
   "cell_type": "code",
   "execution_count": 60,
   "id": "ea2e4b5c",
   "metadata": {},
   "outputs": [],
   "source": [
    "# hrefs = [link.attrs.get('href') for link in links]\n",
    "# butterfly_pages = hrefs[39:100]\n",
    "\n",
    "# url = [\"https://butterfly-conservation.org/\" + page for page in butterfly_pages]"
   ]
  },
  {
   "cell_type": "code",
   "execution_count": 61,
   "id": "2601b4f6",
   "metadata": {},
   "outputs": [],
   "source": []
  },
  {
   "cell_type": "code",
   "execution_count": 62,
   "id": "c2bc379d",
   "metadata": {},
   "outputs": [],
   "source": [
    "resp = requests.get(url)"
   ]
  },
  {
   "cell_type": "code",
   "execution_count": 78,
   "id": "3f37f3e6",
   "metadata": {},
   "outputs": [],
   "source": [
    "def get_butterfly(url):\n",
    "    \"\"\"Request and parse a single butterfly profile page, return a dict of data.\"\"\"\n",
    "\n",
    "\n",
    "    r = requests.get(url)\n",
    "    soup = BeautifulSoup(r.text)\n",
    "\n",
    "    family = soup.find(\"li\", text=re.compile(r'Family:*'))\n",
    "    size = soup.find(\"li\", text=re.compile(r'Size:*'))\n",
    "    wing_span = soup.find(\"li\", text=re.compile(r'Wing Span:*'))\n",
    "\n",
    "\n",
    "\n",
    "    return {\n",
    "            'name': name,\n",
    "            'family': peel_data_from_element(family),\n",
    "            'size': peel_data_from_element(size),\n",
    "            'wing span': peel_data_from_element(wing_span),\n",
    "            'url', url,\n",
    "           }\n",
    "\n",
    "\n",
    "def peel_data_from_element(element):\n",
    "  just_text = element.text\n",
    "  return just_text.split(': ')[1]"
   ]
  },
  {
   "cell_type": "code",
   "execution_count": 81,
   "id": "4e791dd8",
   "metadata": {},
   "outputs": [],
   "source": [
    "data.to_csv('my_file.csv')\n"
   ]
  },
  {
   "cell_type": "code",
   "execution_count": null,
   "id": "db1c6f48",
   "metadata": {},
   "outputs": [],
   "source": []
  }
 ],
 "metadata": {
  "kernelspec": {
   "display_name": "Python 3 (ipykernel)",
   "language": "python",
   "name": "python3"
  },
  "language_info": {
   "codemirror_mode": {
    "name": "ipython",
    "version": 3
   },
   "file_extension": ".py",
   "mimetype": "text/x-python",
   "name": "python",
   "nbconvert_exporter": "python",
   "pygments_lexer": "ipython3",
   "version": "3.10.2"
  }
 },
 "nbformat": 4,
 "nbformat_minor": 5
}
