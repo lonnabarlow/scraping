{
 "cells": [
  {
   "cell_type": "code",
   "execution_count": 66,
   "id": "5ecb1dfa",
   "metadata": {},
   "outputs": [],
   "source": [
    "\n",
    "import requests\n",
    "from bs4 import BeautifulSoup\n",
    "import re\n",
    "import pandas as pd"
   ]
  },
  {
   "cell_type": "code",
   "execution_count": 69,
   "id": "c8fd67a6",
   "metadata": {},
   "outputs": [],
   "source": [
    "r = requests.get(\"https://butterfly-conservation.org/uk-butterflies/a-to-z\")\n",
    "soup = BeautifulSoup(r.text)"
   ]
  },
  {
   "cell_type": "code",
   "execution_count": 58,
   "id": "064de632",
   "metadata": {},
   "outputs": [],
   "source": [
    "links = soup.find_all(\"a\")"
   ]
  },
  {
   "cell_type": "code",
   "execution_count": 59,
   "id": "003ff62e",
   "metadata": {},
   "outputs": [],
   "source": [
    "# for link in links:\n",
    "#     print(link.attrs.get('href'))\n",
    "    \n"
   ]
  },
  {
   "cell_type": "code",
   "execution_count": 60,
   "id": "dfca8d0d",
   "metadata": {},
   "outputs": [],
   "source": [
    "# hrefs = [link.attrs.get('href') for link in links]\n",
    "# butterfly_pages = hrefs[39:100]\n",
    "\n",
    "# url = [\"https://butterfly-conservation.org/\" + page for page in butterfly_pages]"
   ]
  },
  {
   "cell_type": "code",
   "execution_count": 61,
   "id": "1834a5ba",
   "metadata": {},
   "outputs": [],
   "source": []
  },
  {
   "cell_type": "code",
   "execution_count": 62,
   "id": "23d50c90",
   "metadata": {},
   "outputs": [],
   "source": [
    "resp = requests.get(url)"
   ]
  },
  {
   "cell_type": "code",
   "execution_count": 78,
   "id": "d2e6dc7b",
   "metadata": {},
   "outputs": [],
   "source": [
    "def get_butterfly(url):\n",
    "    \"\"\"Request and parse a single butterfly profile page, return a dict of data.\"\"\"\n",
    "\n",
    "\n",
    "    r = requests.get(url)\n",
    "    soup = BeautifulSoup(r.text)\n",
    "\n",
    "    family = soup.find(\"li\", text=re.compile(r'Family:*'))\n",
    "    size = soup.find(\"li\", text=re.compile(r'Size:*'))\n",
    "    wing_span = soup.find(\"li\", text=re.compile(r'Wing Span:*'))\n",
    "\n",
    "\n",
    "\n",
    "    return {\n",
    "            'name': name,\n",
    "            'family': peel_data_from_element(family),\n",
    "            'size': peel_data_from_element(size),\n",
    "            'wing span': peel_data_from_element(wing_span),\n",
    "            'url', url,\n",
    "           }\n",
    "\n",
    "\n",
    "def peel_data_from_element(element):\n",
    "  just_text = element.text\n",
    "  return just_text.split(': ')[1]"
   ]
  },
  {
   "cell_type": "code",
   "execution_count": 79,
   "id": "196efda7",
   "metadata": {},
   "outputs": [
    {
     "ename": "AttributeError",
     "evalue": "'NoneType' object has no attribute 'to_csv'",
     "output_type": "error",
     "traceback": [
      "\u001b[0;31m---------------------------------------------------------------------------\u001b[0m",
      "\u001b[0;31mAttributeError\u001b[0m                            Traceback (most recent call last)",
      "Input \u001b[0;32mIn [79]\u001b[0m, in \u001b[0;36m<cell line: 1>\u001b[0;34m()\u001b[0m\n\u001b[0;32m----> 1\u001b[0m \u001b[43mdata\u001b[49m\u001b[38;5;241;43m.\u001b[39;49m\u001b[43mto_csv\u001b[49m(\u001b[38;5;124m'\u001b[39m\u001b[38;5;124mmy_file.csv\u001b[39m\u001b[38;5;124m'\u001b[39m)\n",
      "\u001b[0;31mAttributeError\u001b[0m: 'NoneType' object has no attribute 'to_csv'"
     ]
    }
   ],
   "source": [
    "data.to_csv('my_file.csv')"
   ]
  },
  {
   "cell_type": "code",
   "execution_count": null,
   "id": "a6756e23",
   "metadata": {},
   "outputs": [],
   "source": []
  }
 ],
 "metadata": {
  "kernelspec": {
   "display_name": "Python 3 (ipykernel)",
   "language": "python",
   "name": "python3"
  },
  "language_info": {
   "codemirror_mode": {
    "name": "ipython",
    "version": 3
   },
   "file_extension": ".py",
   "mimetype": "text/x-python",
   "name": "python",
   "nbconvert_exporter": "python",
   "pygments_lexer": "ipython3",
   "version": "3.10.2"
  }
 },
 "nbformat": 4,
 "nbformat_minor": 5
}
